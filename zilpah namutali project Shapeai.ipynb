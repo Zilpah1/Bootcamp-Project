{
 "cells": [
  {
   "cell_type": "code",
   "execution_count": 1,
   "metadata": {},
   "outputs": [
    {
     "name": "stdout",
     "output_type": "stream",
     "text": [
      "952504a7d4ccf9c20c28a6e8c39bac4f\n"
     ]
    }
   ],
   "source": [
    "#Write a program in python to generate MD5 of string data\n",
    "\n",
    "import hashlib\n",
    "name =\"zilpah namutali\"\n",
    "\n",
    "hashing =hashlib.md5()\n",
    "hashing.update(name.encode('utf8'))\n",
    "display = hashing.hexdigest()\n",
    "print(display)"
   ]
  },
  {
   "cell_type": "code",
   "execution_count": 28,
   "metadata": {},
   "outputs": [
    {
     "name": "stdout",
     "output_type": "stream",
     "text": [
      "first hashing\n",
      "sha3_512 HASHING OUTPUT: 85fb773f0b63950f54cf8335182f19ed4961a7efd46550c341ab41ea6029734f2bd62cbe2b371d52ac319ec435b2bc0b38a52ef20cdac4244fddf4b9b9b91205\n",
      "second hashing\n",
      "blake2b HASHING OUTPUT: 9270f739612f6a2dd4c13b476124533ba794f41712e9404260a5a0e4115be0732a41fb28e6419ac12cdc0d0040a1a35176eb8ef52d55a261e90939d0f747c323\n",
      "third hashing\n",
      "sha1 HASHING OUTPUT: f104859969d7a5556b8f1f30e1acce67705a6c9d\n"
     ]
    }
   ],
   "source": [
    "#Write a program in python to generate hashes of string data using three algorithms of hashlib\n",
    "\n",
    "import hashlib\n",
    "myname=\"zilpah\"\n",
    "      #1. Hashing in \"sha3_512\"\n",
    "hashing_1=hashlib.sha3_512()\n",
    "hashing_1.update(myname.encode('utf8'))\n",
    "display_1=hashing_1.hexdigest()\n",
    "print(\"first hashing\")\n",
    "print(\"sha3_512 HASHING OUTPUT:\",display_1)\n",
    "\n",
    "     #2. Hashing in \"blake2b\"\n",
    "hashing_2=hashlib.blake2b()\n",
    "hashing_2.update(myname.encode('utf8'))\n",
    "display_2=hashing_2.hexdigest()\n",
    "print(\"second hashing\")\n",
    "print(\"blake2b HASHING OUTPUT:\",display_2)\n",
    "\n",
    "    #3. Hashing in \"sha1\"\n",
    "hashing_3=hashlib.sha1()\n",
    "hashing_3.update(myname.encode('utf8'))\n",
    "display_3=hashing_3.hexdigest()\n",
    "print(\"third hashing\")\n",
    "print(\"sha1 HASHING OUTPUT:\",display_3)"
   ]
  },
  {
   "cell_type": "code",
   "execution_count": 22,
   "metadata": {},
   "outputs": [
    {
     "name": "stdout",
     "output_type": "stream",
     "text": [
      "hashed string:  c0460e5614c5c4fb54e99436b6a85281\n",
      "first salting:  zilpahnana\n",
      "second salting:  zilpahnana6@#%4\n",
      "salted and hashed string:  e8372f3b15b77ac4b7fc070ad35014d7\n"
     ]
    }
   ],
   "source": [
    "#Add salting and iterations to your hashes\n",
    "#use of md5 hashing\n",
    "\n",
    "import hashlib\n",
    "name=\"zilpah\"\n",
    "hashing=hashlib.md5()\n",
    "hashing.update(name.encode('utf8'))\n",
    "print(\"hashed string: \",hashing.hexdigest())\n",
    "\n",
    "salt1=\"nana\"   #first salting\n",
    "salted=name+salt1\n",
    "print(\"first salting: \", salted)\n",
    "\n",
    "salt2=\"6@#%4\" #second salting\n",
    "salted=salted+salt2\n",
    "print(\"second salting: \", salted)\n",
    "\n",
    "name=salted   #hashing after first and second salting\n",
    "hashing=hashlib.md5()\n",
    "hashing.update(name.encode('utf8'))\n",
    "print(\"salted and hashed string: \",hashing.hexdigest())\n",
    "\n"
   ]
  },
  {
   "cell_type": "code",
   "execution_count": null,
   "metadata": {},
   "outputs": [],
   "source": []
  }
 ],
 "metadata": {
  "kernelspec": {
   "display_name": "Python 3",
   "language": "python",
   "name": "python3"
  },
  "language_info": {
   "codemirror_mode": {
    "name": "ipython",
    "version": 3
   },
   "file_extension": ".py",
   "mimetype": "text/x-python",
   "name": "python",
   "nbconvert_exporter": "python",
   "pygments_lexer": "ipython3",
   "version": "3.7.4"
  }
 },
 "nbformat": 4,
 "nbformat_minor": 2
}
